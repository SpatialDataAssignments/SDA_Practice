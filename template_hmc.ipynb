{
 "cells": [
  {
   "cell_type": "code",
   "execution_count": 2,
   "metadata": {
    "colab": {
     "base_uri": "https://localhost:8080/",
     "height": 538
    },
    "id": "1eFOI8SZ5uqc",
    "outputId": "5a38e9d6-835f-4790-d4be-a6cd396fd658"
   },
   "outputs": [
    {
     "data": {
      "text/html": [
       "<div>\n",
       "<style scoped>\n",
       "    .dataframe tbody tr th:only-of-type {\n",
       "        vertical-align: middle;\n",
       "    }\n",
       "\n",
       "    .dataframe tbody tr th {\n",
       "        vertical-align: top;\n",
       "    }\n",
       "\n",
       "    .dataframe thead th {\n",
       "        text-align: right;\n",
       "    }\n",
       "</style>\n",
       "<table border=\"1\" class=\"dataframe\">\n",
       "  <thead>\n",
       "    <tr style=\"text-align: right;\">\n",
       "      <th></th>\n",
       "      <th>STATEFP</th>\n",
       "      <th>STATENS</th>\n",
       "      <th>AFFGEOID</th>\n",
       "      <th>GEOID</th>\n",
       "      <th>STUSPS</th>\n",
       "      <th>NAME</th>\n",
       "      <th>LSAD</th>\n",
       "      <th>ALAND</th>\n",
       "      <th>AWATER</th>\n",
       "      <th>geometry</th>\n",
       "    </tr>\n",
       "  </thead>\n",
       "  <tbody>\n",
       "    <tr>\n",
       "      <th>0</th>\n",
       "      <td>24</td>\n",
       "      <td>01714934</td>\n",
       "      <td>0400000US24</td>\n",
       "      <td>24</td>\n",
       "      <td>MD</td>\n",
       "      <td>Maryland</td>\n",
       "      <td>00</td>\n",
       "      <td>25151100280</td>\n",
       "      <td>6979966958</td>\n",
       "      <td>MULTIPOLYGON (((-76.046 38.026, -76.007 38.037...</td>\n",
       "    </tr>\n",
       "    <tr>\n",
       "      <th>1</th>\n",
       "      <td>19</td>\n",
       "      <td>01779785</td>\n",
       "      <td>0400000US19</td>\n",
       "      <td>19</td>\n",
       "      <td>IA</td>\n",
       "      <td>Iowa</td>\n",
       "      <td>00</td>\n",
       "      <td>144661267977</td>\n",
       "      <td>1084180812</td>\n",
       "      <td>POLYGON ((-96.622 42.779, -96.578 42.828, -96....</td>\n",
       "    </tr>\n",
       "    <tr>\n",
       "      <th>2</th>\n",
       "      <td>10</td>\n",
       "      <td>01779781</td>\n",
       "      <td>0400000US10</td>\n",
       "      <td>10</td>\n",
       "      <td>DE</td>\n",
       "      <td>Delaware</td>\n",
       "      <td>00</td>\n",
       "      <td>5045925646</td>\n",
       "      <td>1399985648</td>\n",
       "      <td>POLYGON ((-75.774 39.722, -75.753 39.758, -75....</td>\n",
       "    </tr>\n",
       "    <tr>\n",
       "      <th>3</th>\n",
       "      <td>39</td>\n",
       "      <td>01085497</td>\n",
       "      <td>0400000US39</td>\n",
       "      <td>39</td>\n",
       "      <td>OH</td>\n",
       "      <td>Ohio</td>\n",
       "      <td>00</td>\n",
       "      <td>105828882568</td>\n",
       "      <td>10268850702</td>\n",
       "      <td>MULTIPOLYGON (((-82.863 41.694, -82.826 41.723...</td>\n",
       "    </tr>\n",
       "    <tr>\n",
       "      <th>4</th>\n",
       "      <td>42</td>\n",
       "      <td>01779798</td>\n",
       "      <td>0400000US42</td>\n",
       "      <td>42</td>\n",
       "      <td>PA</td>\n",
       "      <td>Pennsylvania</td>\n",
       "      <td>00</td>\n",
       "      <td>115884442321</td>\n",
       "      <td>3394589990</td>\n",
       "      <td>POLYGON ((-80.52 40.907, -80.52 40.987, -80.51...</td>\n",
       "    </tr>\n",
       "  </tbody>\n",
       "</table>\n",
       "</div>"
      ],
      "text/plain": [
       "  STATEFP   STATENS     AFFGEOID GEOID STUSPS          NAME LSAD  \\\n",
       "0      24  01714934  0400000US24    24     MD      Maryland   00   \n",
       "1      19  01779785  0400000US19    19     IA          Iowa   00   \n",
       "2      10  01779781  0400000US10    10     DE      Delaware   00   \n",
       "3      39  01085497  0400000US39    39     OH          Ohio   00   \n",
       "4      42  01779798  0400000US42    42     PA  Pennsylvania   00   \n",
       "\n",
       "          ALAND       AWATER  \\\n",
       "0   25151100280   6979966958   \n",
       "1  144661267977   1084180812   \n",
       "2    5045925646   1399985648   \n",
       "3  105828882568  10268850702   \n",
       "4  115884442321   3394589990   \n",
       "\n",
       "                                            geometry  \n",
       "0  MULTIPOLYGON (((-76.046 38.026, -76.007 38.037...  \n",
       "1  POLYGON ((-96.622 42.779, -96.578 42.828, -96....  \n",
       "2  POLYGON ((-75.774 39.722, -75.753 39.758, -75....  \n",
       "3  MULTIPOLYGON (((-82.863 41.694, -82.826 41.723...  \n",
       "4  POLYGON ((-80.52 40.907, -80.52 40.987, -80.51...  "
      ]
     },
     "execution_count": 2,
     "metadata": {},
     "output_type": "execute_result"
    }
   ],
   "source": [
    "import geopandas as gpd\n",
    "\n",
    "# from zip\n",
    "linkGitZip=\"https://github.com/SpatialDataAssignments/SDA_Practice/raw/refs/heads/main/cb_2018_us_state_20m.zip\" #<- github location\n",
    "gdf1 = gpd.read_file(linkGitZip)\n",
    "gdf1.head()"
   ]
  },
  {
   "cell_type": "code",
   "execution_count": 3,
   "metadata": {
    "colab": {
     "base_uri": "https://localhost:8080/",
     "height": 181
    },
    "id": "RIX6gjwyRdLi",
    "outputId": "c0b140ab-b2da-4135-a5ea-856d29ef2b08"
   },
   "outputs": [
    {
     "data": {
      "text/plain": [
       "<Axes: >"
      ]
     },
     "execution_count": 3,
     "metadata": {},
     "output_type": "execute_result"
    },
    {
     "data": {
      "image/png": "[encoded data removed]",
      "text/plain": [
       "<Figure size 640x480 with 1 Axes>"
      ]
     },
     "metadata": {},
     "output_type": "display_data"
    }
   ],
   "source": [
    "gdf1.plot()"
   ]
  },
  {
   "cell_type": "code",
   "execution_count": 4,
   "metadata": {
    "colab": {
     "base_uri": "https://localhost:8080/",
     "height": 538
    },
    "id": "fFNVFdBfY03d",
    "outputId": "56cbd6f4-f541-448c-94f4-d98af4708b5d"
   },
   "outputs": [
    {
     "data": {
      "text/html": [
       "<div>\n",
       "<style scoped>\n",
       "    .dataframe tbody tr th:only-of-type {\n",
       "        vertical-align: middle;\n",
       "    }\n",
       "\n",
       "    .dataframe tbody tr th {\n",
       "        vertical-align: top;\n",
       "    }\n",
       "\n",
       "    .dataframe thead th {\n",
       "        text-align: right;\n",
       "    }\n",
       "</style>\n",
       "<table border=\"1\" class=\"dataframe\">\n",
       "  <thead>\n",
       "    <tr style=\"text-align: right;\">\n",
       "      <th></th>\n",
       "      <th>STATEFP</th>\n",
       "      <th>STATENS</th>\n",
       "      <th>AFFGEOID</th>\n",
       "      <th>GEOID</th>\n",
       "      <th>STUSPS</th>\n",
       "      <th>NAME</th>\n",
       "      <th>LSAD</th>\n",
       "      <th>ALAND</th>\n",
       "      <th>AWATER</th>\n",
       "      <th>geometry</th>\n",
       "    </tr>\n",
       "  </thead>\n",
       "  <tbody>\n",
       "    <tr>\n",
       "      <th>0</th>\n",
       "      <td>24</td>\n",
       "      <td>01714934</td>\n",
       "      <td>0400000US24</td>\n",
       "      <td>24</td>\n",
       "      <td>MD</td>\n",
       "      <td>Maryland</td>\n",
       "      <td>00</td>\n",
       "      <td>25151100280</td>\n",
       "      <td>6979966958</td>\n",
       "      <td>MULTIPOLYGON (((-76.046 38.026, -76.007 38.037...</td>\n",
       "    </tr>\n",
       "    <tr>\n",
       "      <th>1</th>\n",
       "      <td>19</td>\n",
       "      <td>01779785</td>\n",
       "      <td>0400000US19</td>\n",
       "      <td>19</td>\n",
       "      <td>IA</td>\n",
       "      <td>Iowa</td>\n",
       "      <td>00</td>\n",
       "      <td>144661267977</td>\n",
       "      <td>1084180812</td>\n",
       "      <td>POLYGON ((-96.622 42.779, -96.578 42.828, -96....</td>\n",
       "    </tr>\n",
       "    <tr>\n",
       "      <th>2</th>\n",
       "      <td>10</td>\n",
       "      <td>01779781</td>\n",
       "      <td>0400000US10</td>\n",
       "      <td>10</td>\n",
       "      <td>DE</td>\n",
       "      <td>Delaware</td>\n",
       "      <td>00</td>\n",
       "      <td>5045925646</td>\n",
       "      <td>1399985648</td>\n",
       "      <td>POLYGON ((-75.774 39.722, -75.753 39.758, -75....</td>\n",
       "    </tr>\n",
       "    <tr>\n",
       "      <th>3</th>\n",
       "      <td>39</td>\n",
       "      <td>01085497</td>\n",
       "      <td>0400000US39</td>\n",
       "      <td>39</td>\n",
       "      <td>OH</td>\n",
       "      <td>Ohio</td>\n",
       "      <td>00</td>\n",
       "      <td>105828882568</td>\n",
       "      <td>10268850702</td>\n",
       "      <td>MULTIPOLYGON (((-82.863 41.694, -82.826 41.723...</td>\n",
       "    </tr>\n",
       "    <tr>\n",
       "      <th>4</th>\n",
       "      <td>42</td>\n",
       "      <td>01779798</td>\n",
       "      <td>0400000US42</td>\n",
       "      <td>42</td>\n",
       "      <td>PA</td>\n",
       "      <td>Pennsylvania</td>\n",
       "      <td>00</td>\n",
       "      <td>115884442321</td>\n",
       "      <td>3394589990</td>\n",
       "      <td>POLYGON ((-80.52 40.907, -80.52 40.987, -80.51...</td>\n",
       "    </tr>\n",
       "  </tbody>\n",
       "</table>\n",
       "</div>"
      ],
      "text/plain": [
       "  STATEFP   STATENS     AFFGEOID GEOID STUSPS          NAME LSAD  \\\n",
       "0      24  01714934  0400000US24    24     MD      Maryland   00   \n",
       "1      19  01779785  0400000US19    19     IA          Iowa   00   \n",
       "2      10  01779781  0400000US10    10     DE      Delaware   00   \n",
       "3      39  01085497  0400000US39    39     OH          Ohio   00   \n",
       "4      42  01779798  0400000US42    42     PA  Pennsylvania   00   \n",
       "\n",
       "          ALAND       AWATER  \\\n",
       "0   25151100280   6979966958   \n",
       "1  144661267977   1084180812   \n",
       "2    5045925646   1399985648   \n",
       "3  105828882568  10268850702   \n",
       "4  115884442321   3394589990   \n",
       "\n",
       "                                            geometry  \n",
       "0  MULTIPOLYGON (((-76.046 38.026, -76.007 38.037...  \n",
       "1  POLYGON ((-96.622 42.779, -96.578 42.828, -96....  \n",
       "2  POLYGON ((-75.774 39.722, -75.753 39.758, -75....  \n",
       "3  MULTIPOLYGON (((-82.863 41.694, -82.826 41.723...  \n",
       "4  POLYGON ((-80.52 40.907, -80.52 40.987, -80.51...  "
      ]
     },
     "execution_count": 4,
     "metadata": {},
     "output_type": "execute_result"
    }
   ],
   "source": [
    "# from shapefile in a folder\n",
    "linkGitSHP=\"https://github.com/SpatialDataAssignments/SDA_Practice/raw/refs/heads/main/cb_2018_us_state_20m/cb_2018_us_state_20m.shp\" #<- github location\n",
    "gdf2 = gpd.read_file(linkGitSHP)\n",
    "gdf2.head()"
   ]
  },
  {
   "cell_type": "markdown",
   "metadata": {
    "id": "yqUwKgRuZ6wW"
   },
   "source": [
    "# Do something"
   ]
  },
  {
   "cell_type": "code",
   "execution_count": 5,
   "metadata": {
    "id": "QuCkQuzeZpmL"
   },
   "outputs": [],
   "source": [
    "# Export to  GeoPackage\n",
    "gdf1.to_file('MapFromPython1.gpkg', driver='GPKG', layer='usa')\n",
    "\n",
    "# With additional options\n",
    "gdf2.to_file('MapFromPython2.geojson',\n",
    "           driver='GeoJSON',\n",
    "           encoding='utf-8')  # Specify encoding"
   ]
  },
  {
   "cell_type": "code",
   "execution_count": null,
   "metadata": {
    "id": "xYHWlUbfZ_P5"
   },
   "outputs": [],
   "source": []
  },
  {
   "cell_type": "code",
   "execution_count": null,
   "metadata": {},
   "outputs": [],
   "source": []
  }
 ],
 "metadata": {
  "colab": {
   "provenance": []
  },
  "kernelspec": {
   "display_name": "Python 3 (ipykernel)",
   "language": "python",
   "name": "python3"
  },
  "language_info": {
   "codemirror_mode": {
    "name": "ipython",
    "version": 3
   },
   "file_extension": ".py",
   "mimetype": "text/x-python",
   "name": "python",
   "nbconvert_exporter": "python",
   "pygments_lexer": "ipython3",
   "version": "3.11.13"
  }
 },
 "nbformat": 4,
 "nbformat_minor": 4
}
